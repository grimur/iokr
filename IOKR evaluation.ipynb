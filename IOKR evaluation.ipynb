{
 "cells": [
  {
   "cell_type": "code",
   "execution_count": 10,
   "metadata": {},
   "outputs": [],
   "source": [
    "import scipy.io\n",
    "import os\n",
    "import numpy\n",
    "\n",
    "\n",
    "datapath = \"/home/grimur/iokr/data\""
   ]
  },
  {
   "cell_type": "code",
   "execution_count": null,
   "metadata": {},
   "outputs": [
    {
     "name": "stdout",
     "output_type": "stream",
     "text": [
      "Loading kernel PPKr.txt\n"
     ]
    }
   ],
   "source": [
    "import iokrdata as data\n",
    "\n",
    "iokrdata = data.IOKRDataServer(datapath, kernel='PPKr.txt')\n",
    "#iokrdata = IOKRDataServer(datapath)"
   ]
  },
  {
   "cell_type": "code",
   "execution_count": null,
   "metadata": {},
   "outputs": [],
   "source": []
  },
  {
   "cell_type": "code",
   "execution_count": 3,
   "metadata": {},
   "outputs": [],
   "source": [
    "import imp\n",
    "import iokr\n",
    "imp.reload(iokr)\n",
    "import scipy.stats\n"
   ]
  },
  {
   "cell_type": "code",
   "execution_count": 4,
   "metadata": {},
   "outputs": [],
   "source": [
    "\n",
    "\n",
    "def cs(a, b):\n",
    "    \"\"\"\n",
    "    cosine similarity\n",
    "    \"\"\"\n",
    "    return numpy.dot(a, b) / (numpy.sqrt(numpy.dot(a, a) * numpy.dot(b, b)))\n",
    "\n",
    "def test_IOKR_prediction(iokrdata):\n",
    "    \"\"\"\n",
    "    Predict the fingerprint, return the distance from the true fingerprint and a random fingerprint from the CV fold\n",
    "    \"\"\"\n",
    "    res = []\n",
    "    res_ref = []\n",
    "    for label in set(iokrdata.folds):\n",
    "        label_indices = iokrdata.get_indices(label, complement=True)\n",
    "        iokr_opt = iokr.InputOutputKernelRegression(iokrdata)\n",
    "        iokr_opt.set_training_indices(label_indices, _lambda=0.001)\n",
    "        iokr_opt.fit()\n",
    "\n",
    "        indices = numpy.where(iokrdata.folds == label)[0]\n",
    "\n",
    "        for idx in indices:\n",
    "            test_ground = iokrdata.get_sample(idx)['fingerprint'].T\n",
    "            test_ground = numpy.array(test_ground)\n",
    "            test_ground = test_ground.reshape((2765, ))\n",
    "            test_res = numpy.array(iokr_opt.test(idx))\n",
    "            test_res = test_res.reshape((2765, ))\n",
    "            # res.append((numpy.sum(numpy.abs(test_res - test_ground)) / iokrdata.get_dimension()))\n",
    "            if numpy.sum(test_res) != 0 and numpy.sum(test_ground) != 0:\n",
    "                res.append(cs(test_res, test_ground))\n",
    "\n",
    "            j = numpy.random.choice(indices)\n",
    "            test_res2 = iokrdata.get_sample(j)['fingerprint'].T\n",
    "            test_res2 = numpy.array(test_res2)\n",
    "            test_res2 = test_res2.reshape((2765, ))\n",
    "            # res_ref.append((numpy.sum(numpy.abs(test_res2 - test_ground)) / iokrdata.get_dimension()))\n",
    "            if numpy.sum(test_res2) != 0 and numpy.sum(test_res) != 0:\n",
    "                res_ref.append(cs(test_res2, test_res))\n",
    "\n",
    "    return res, res_ref"
   ]
  },
  {
   "cell_type": "code",
   "execution_count": null,
   "metadata": {},
   "outputs": [],
   "source": [
    "\n"
   ]
  },
  {
   "cell_type": "code",
   "execution_count": 5,
   "metadata": {},
   "outputs": [
    {
     "name": "stdout",
     "output_type": "stream",
     "text": [
      "Loading kernel ALIGND.txt\n",
      "ALIGND.txt\n",
      "0.3523226039391773 0.09456134184839274\n",
      "0.3037906352162671 0.08381117629852809\n",
      "Ttest_indResult(statistic=24.70417881312002, pvalue=4.565312155397133e-130)\n",
      "Loading kernel CP2Plus.txt\n"
     ]
    },
    {
     "ename": "KeyboardInterrupt",
     "evalue": "",
     "output_type": "error",
     "traceback": [
      "\u001b[0;31m---------------------------------------------------------------------------\u001b[0m",
      "\u001b[0;31mKeyboardInterrupt\u001b[0m                         Traceback (most recent call last)",
      "\u001b[0;32m<ipython-input-5-ad77d5174370>\u001b[0m in \u001b[0;36m<module>\u001b[0;34m\u001b[0m\n\u001b[1;32m     28\u001b[0m \u001b[0;32mfor\u001b[0m \u001b[0mkernel\u001b[0m \u001b[0;32min\u001b[0m \u001b[0mkernel_list\u001b[0m\u001b[0;34m:\u001b[0m\u001b[0;34m\u001b[0m\u001b[0;34m\u001b[0m\u001b[0m\n\u001b[1;32m     29\u001b[0m     \u001b[0miokrdata\u001b[0m \u001b[0;34m=\u001b[0m \u001b[0mdata\u001b[0m\u001b[0;34m.\u001b[0m\u001b[0mIOKRDataServer\u001b[0m\u001b[0;34m(\u001b[0m\u001b[0mdatapath\u001b[0m\u001b[0;34m,\u001b[0m \u001b[0mkernel\u001b[0m\u001b[0;34m=\u001b[0m\u001b[0mkernel\u001b[0m\u001b[0;34m)\u001b[0m\u001b[0;34m\u001b[0m\u001b[0;34m\u001b[0m\u001b[0m\n\u001b[0;32m---> 30\u001b[0;31m     \u001b[0mres\u001b[0m\u001b[0;34m,\u001b[0m \u001b[0mres_ref\u001b[0m \u001b[0;34m=\u001b[0m \u001b[0mtest_IOKR_prediction\u001b[0m\u001b[0;34m(\u001b[0m\u001b[0miokrdata\u001b[0m\u001b[0;34m)\u001b[0m\u001b[0;34m\u001b[0m\u001b[0;34m\u001b[0m\u001b[0m\n\u001b[0m\u001b[1;32m     31\u001b[0m     \u001b[0mprint\u001b[0m\u001b[0;34m(\u001b[0m\u001b[0mkernel\u001b[0m\u001b[0;34m)\u001b[0m\u001b[0;34m\u001b[0m\u001b[0;34m\u001b[0m\u001b[0m\n\u001b[1;32m     32\u001b[0m     \u001b[0mprint\u001b[0m\u001b[0;34m(\u001b[0m\u001b[0mnumpy\u001b[0m\u001b[0;34m.\u001b[0m\u001b[0mmean\u001b[0m\u001b[0;34m(\u001b[0m\u001b[0mres\u001b[0m\u001b[0;34m)\u001b[0m\u001b[0;34m,\u001b[0m \u001b[0mnumpy\u001b[0m\u001b[0;34m.\u001b[0m\u001b[0mstd\u001b[0m\u001b[0;34m(\u001b[0m\u001b[0mres\u001b[0m\u001b[0;34m)\u001b[0m\u001b[0;34m)\u001b[0m\u001b[0;34m\u001b[0m\u001b[0;34m\u001b[0m\u001b[0m\n",
      "\u001b[0;32m<ipython-input-4-b63b872b760a>\u001b[0m in \u001b[0;36mtest_IOKR_prediction\u001b[0;34m(iokrdata)\u001b[0m\n\u001b[1;32m     22\u001b[0m             \u001b[0mtest_ground\u001b[0m \u001b[0;34m=\u001b[0m \u001b[0mnumpy\u001b[0m\u001b[0;34m.\u001b[0m\u001b[0marray\u001b[0m\u001b[0;34m(\u001b[0m\u001b[0mtest_ground\u001b[0m\u001b[0;34m)\u001b[0m\u001b[0;34m\u001b[0m\u001b[0;34m\u001b[0m\u001b[0m\n\u001b[1;32m     23\u001b[0m             \u001b[0mtest_ground\u001b[0m \u001b[0;34m=\u001b[0m \u001b[0mtest_ground\u001b[0m\u001b[0;34m.\u001b[0m\u001b[0mreshape\u001b[0m\u001b[0;34m(\u001b[0m\u001b[0;34m(\u001b[0m\u001b[0;36m2765\u001b[0m\u001b[0;34m,\u001b[0m \u001b[0;34m)\u001b[0m\u001b[0;34m)\u001b[0m\u001b[0;34m\u001b[0m\u001b[0;34m\u001b[0m\u001b[0m\n\u001b[0;32m---> 24\u001b[0;31m             \u001b[0mtest_res\u001b[0m \u001b[0;34m=\u001b[0m \u001b[0mnumpy\u001b[0m\u001b[0;34m.\u001b[0m\u001b[0marray\u001b[0m\u001b[0;34m(\u001b[0m\u001b[0miokr_opt\u001b[0m\u001b[0;34m.\u001b[0m\u001b[0mtest\u001b[0m\u001b[0;34m(\u001b[0m\u001b[0midx\u001b[0m\u001b[0;34m)\u001b[0m\u001b[0;34m)\u001b[0m\u001b[0;34m\u001b[0m\u001b[0;34m\u001b[0m\u001b[0m\n\u001b[0m\u001b[1;32m     25\u001b[0m             \u001b[0mtest_res\u001b[0m \u001b[0;34m=\u001b[0m \u001b[0mtest_res\u001b[0m\u001b[0;34m.\u001b[0m\u001b[0mreshape\u001b[0m\u001b[0;34m(\u001b[0m\u001b[0;34m(\u001b[0m\u001b[0;36m2765\u001b[0m\u001b[0;34m,\u001b[0m \u001b[0;34m)\u001b[0m\u001b[0;34m)\u001b[0m\u001b[0;34m\u001b[0m\u001b[0;34m\u001b[0m\u001b[0m\n\u001b[1;32m     26\u001b[0m             \u001b[0;31m# res.append((numpy.sum(numpy.abs(test_res - test_ground)) / iokrdata.get_dimension()))\u001b[0m\u001b[0;34m\u001b[0m\u001b[0;34m\u001b[0m\u001b[0;34m\u001b[0m\u001b[0m\n",
      "\u001b[0;32m~/iokr/iokr.py\u001b[0m in \u001b[0;36mtest\u001b[0;34m(self, index, cutoff)\u001b[0m\n\u001b[1;32m     88\u001b[0m     \u001b[0;32mdef\u001b[0m \u001b[0mtest\u001b[0m\u001b[0;34m(\u001b[0m\u001b[0mself\u001b[0m\u001b[0;34m,\u001b[0m \u001b[0mindex\u001b[0m\u001b[0;34m,\u001b[0m \u001b[0mcutoff\u001b[0m\u001b[0;34m=\u001b[0m\u001b[0;36m0.01\u001b[0m\u001b[0;34m)\u001b[0m\u001b[0;34m:\u001b[0m\u001b[0;34m\u001b[0m\u001b[0;34m\u001b[0m\u001b[0m\n\u001b[1;32m     89\u001b[0m         \u001b[0mproj\u001b[0m \u001b[0;34m=\u001b[0m \u001b[0mself\u001b[0m\u001b[0;34m.\u001b[0m\u001b[0mproject\u001b[0m\u001b[0;34m(\u001b[0m\u001b[0mindex\u001b[0m\u001b[0;34m)\u001b[0m\u001b[0;34m\u001b[0m\u001b[0;34m\u001b[0m\u001b[0m\n\u001b[0;32m---> 90\u001b[0;31m         \u001b[0;32mreturn\u001b[0m \u001b[0;34m[\u001b[0m\u001b[0;36m1\u001b[0m \u001b[0;32mif\u001b[0m \u001b[0mx\u001b[0m \u001b[0;34m>\u001b[0m \u001b[0mcutoff\u001b[0m \u001b[0;32melse\u001b[0m \u001b[0;36m0\u001b[0m \u001b[0;32mfor\u001b[0m \u001b[0mx\u001b[0m \u001b[0;32min\u001b[0m \u001b[0mproj\u001b[0m\u001b[0;34m]\u001b[0m\u001b[0;34m\u001b[0m\u001b[0;34m\u001b[0m\u001b[0m\n\u001b[0m\u001b[1;32m     91\u001b[0m \u001b[0;34m\u001b[0m\u001b[0m\n\u001b[1;32m     92\u001b[0m \u001b[0;34m\u001b[0m\u001b[0m\n",
      "\u001b[0;32m~/iokr/iokr.py\u001b[0m in \u001b[0;36m<listcomp>\u001b[0;34m(.0)\u001b[0m\n\u001b[1;32m     88\u001b[0m     \u001b[0;32mdef\u001b[0m \u001b[0mtest\u001b[0m\u001b[0;34m(\u001b[0m\u001b[0mself\u001b[0m\u001b[0;34m,\u001b[0m \u001b[0mindex\u001b[0m\u001b[0;34m,\u001b[0m \u001b[0mcutoff\u001b[0m\u001b[0;34m=\u001b[0m\u001b[0;36m0.01\u001b[0m\u001b[0;34m)\u001b[0m\u001b[0;34m:\u001b[0m\u001b[0;34m\u001b[0m\u001b[0;34m\u001b[0m\u001b[0m\n\u001b[1;32m     89\u001b[0m         \u001b[0mproj\u001b[0m \u001b[0;34m=\u001b[0m \u001b[0mself\u001b[0m\u001b[0;34m.\u001b[0m\u001b[0mproject\u001b[0m\u001b[0;34m(\u001b[0m\u001b[0mindex\u001b[0m\u001b[0;34m)\u001b[0m\u001b[0;34m\u001b[0m\u001b[0;34m\u001b[0m\u001b[0m\n\u001b[0;32m---> 90\u001b[0;31m         \u001b[0;32mreturn\u001b[0m \u001b[0;34m[\u001b[0m\u001b[0;36m1\u001b[0m \u001b[0;32mif\u001b[0m \u001b[0mx\u001b[0m \u001b[0;34m>\u001b[0m \u001b[0mcutoff\u001b[0m \u001b[0;32melse\u001b[0m \u001b[0;36m0\u001b[0m \u001b[0;32mfor\u001b[0m \u001b[0mx\u001b[0m \u001b[0;32min\u001b[0m \u001b[0mproj\u001b[0m\u001b[0;34m]\u001b[0m\u001b[0;34m\u001b[0m\u001b[0;34m\u001b[0m\u001b[0m\n\u001b[0m\u001b[1;32m     91\u001b[0m \u001b[0;34m\u001b[0m\u001b[0m\n\u001b[1;32m     92\u001b[0m \u001b[0;34m\u001b[0m\u001b[0m\n",
      "\u001b[0;31mKeyboardInterrupt\u001b[0m: "
     ]
    }
   ],
   "source": [
    "kernel_list = [\"ALIGND.txt\",\n",
    "                    \"CP2Plus.txt\",\n",
    "                    \"CPI.txt\",\n",
    "                    \"CPK.txt\",\n",
    "                    \"LB.txt\",\n",
    "                    \"LI.txt\",\n",
    "                    \"NI.txt\",\n",
    "                    \"RLB.txt\",\n",
    "                    \"ALIGN.txt\",\n",
    "                    \"CP2.txt\",\n",
    "                    \"CPJB.txt\",\n",
    "                    \"CSC.txt\",\n",
    "                    \"LC.txt\",\n",
    "                    \"LW.txt\",\n",
    "                    \"NSF.txt\",\n",
    "                    \"RLI.txt\",\n",
    "                    \"CEC.txt\",\n",
    "                    \"CPC.txt\",\n",
    "                    \"CPJ.txt\",\n",
    "                    \"FIPP.txt\",\n",
    "                    \"LIPP.txt\",\n",
    "                    \"NB.txt\",\n",
    "                    \"PPKr.txt\",\n",
    "                    \"WPC.txt\",\n",
    "                    None]\n",
    "\n",
    "kernel_res = {}\n",
    "for kernel in kernel_list:\n",
    "    iokrdata = data.IOKRDataServer(datapath, kernel=kernel)\n",
    "    res, res_ref = test_IOKR_prediction(iokrdata)\n",
    "    print(kernel)\n",
    "    print(numpy.mean(res), numpy.std(res))\n",
    "    print(numpy.mean(res_ref), numpy.std(res_ref))\n",
    "    print(scipy.stats.ttest_ind(res, res_ref))\n",
    "    kernel_res[kernel] = (res, res_ref)"
   ]
  },
  {
   "cell_type": "code",
   "execution_count": 6,
   "metadata": {},
   "outputs": [],
   "source": [
    "ref_scores_ground = []\n",
    "for i in range(len(iokrdata.folds)):\n",
    "    i_samp = iokrdata.get_sample(i)['fingerprint'].T\n",
    "    i_samp = numpy.array(i_samp)\n",
    "    i_samp = i_samp.reshape((2765, ))\n",
    "    if numpy.sum(i_samp) != 0:\n",
    "        for j in range(i):\n",
    "            j_samp = iokrdata.get_sample(j)['fingerprint'].T\n",
    "            j_samp = numpy.array(j_samp)\n",
    "            j_samp = j_samp.reshape((2765, ))\n",
    "            if numpy.sum(j_samp) != 0:\n",
    "                ref_scores_ground.append(cs(i_samp, j_samp))\n"
   ]
  },
  {
   "cell_type": "code",
   "execution_count": null,
   "metadata": {},
   "outputs": [],
   "source": []
  },
  {
   "cell_type": "code",
   "execution_count": null,
   "metadata": {},
   "outputs": [],
   "source": []
  },
  {
   "cell_type": "code",
   "execution_count": null,
   "metadata": {},
   "outputs": [],
   "source": []
  },
  {
   "cell_type": "code",
   "execution_count": null,
   "metadata": {},
   "outputs": [],
   "source": []
  },
  {
   "cell_type": "code",
   "execution_count": null,
   "metadata": {},
   "outputs": [],
   "source": []
  },
  {
   "cell_type": "code",
   "execution_count": 26,
   "metadata": {},
   "outputs": [],
   "source": [
    "%matplotlib inline\n",
    "import matplotlib.pyplot as plt"
   ]
  },
  {
   "cell_type": "code",
   "execution_count": 110,
   "metadata": {},
   "outputs": [
    {
     "name": "stdout",
     "output_type": "stream",
     "text": [
      "0.498512910710628\n"
     ]
    },
    {
     "data": {
      "image/png": "[encoded data removed]",
      "text/plain": [
       "<Figure size 432x288 with 1 Axes>"
      ]
     },
     "metadata": {
      "needs_background": "light"
     },
     "output_type": "display_data"
    }
   ],
   "source": [
    "plt.hist(ref_scores_ground)\n",
    "print(numpy.median(ref_scores_ground))"
   ]
  },
  {
   "cell_type": "code",
   "execution_count": 124,
   "metadata": {},
   "outputs": [
    {
     "data": {
      "image/png": "[encoded data removed]",
      "text/plain": [
       "<Figure size 432x288 with 1 Axes>"
      ]
     },
     "metadata": {
      "needs_background": "light"
     },
     "output_type": "display_data"
    }
   ],
   "source": [
    "plt.hist([kernel_res[None][0], kernel_res[None][1], ref_scores_ground], label=[\"IOKR\", \"random\", \"ground\"], density=True)\n",
    "plt.legend()\n",
    "plt.savefig('iokr_perf.pdf')"
   ]
  },
  {
   "cell_type": "code",
   "execution_count": null,
   "metadata": {},
   "outputs": [],
   "source": []
  },
  {
   "cell_type": "code",
   "execution_count": null,
   "metadata": {},
   "outputs": [],
   "source": []
  },
  {
   "cell_type": "code",
   "execution_count": 7,
   "metadata": {},
   "outputs": [
    {
     "name": "stdout",
     "output_type": "stream",
     "text": [
      "Loading kernel PPKr.txt\n"
     ]
    }
   ],
   "source": [
    "def test_IOKR_projection(iokrdata):\n",
    "    \"\"\"\n",
    "    Test the projection performance (pre-thresholding)\n",
    "    \"\"\"\n",
    "    fingerprint_projections = []\n",
    "    for label in set(iokrdata.folds):\n",
    "        label_indices = iokrdata.get_indices(label, complement=True)\n",
    "        iokr_opt = iokr.InputOutputKernelRegression(iokrdata)\n",
    "        iokr_opt.set_training_indices(label_indices, _lambda=0.001)\n",
    "        iokr_opt.fit()\n",
    "\n",
    "        indices = numpy.where(iokrdata.folds == label)[0]\n",
    "\n",
    "        for idx in indices:\n",
    "            test_res = numpy.array(iokr_opt.project(idx))\n",
    "            fingerprint_projections.append(test_res)\n",
    "\n",
    "    return fingerprint_projections\n",
    "\n",
    "kernel_list = [\"ALIGND.txt\",\n",
    "                    \"CP2Plus.txt\",\n",
    "                    \"CPI.txt\",\n",
    "                    \"CPK.txt\",\n",
    "                    \"LB.txt\",\n",
    "                    \"LI.txt\",\n",
    "                    \"NI.txt\",\n",
    "                    \"RLB.txt\",\n",
    "                    \"ALIGN.txt\",\n",
    "                    \"CP2.txt\",\n",
    "                    \"CPJB.txt\",\n",
    "                    \"CSC.txt\",\n",
    "                    \"LC.txt\",\n",
    "                    \"LW.txt\",\n",
    "                    \"NSF.txt\",\n",
    "                    \"RLI.txt\",\n",
    "                    \"CEC.txt\",\n",
    "                    \"CPC.txt\",\n",
    "                    \"CPJ.txt\",\n",
    "                    \"FIPP.txt\",\n",
    "                    \"LIPP.txt\",\n",
    "                    \"NB.txt\",\n",
    "                    \"PPKr.txt\",\n",
    "                    \"WPC.txt\",\n",
    "                    None]\n",
    "\n",
    "kernel_list = ['PPKr.txt']\n",
    "\n",
    "kernel_res = {}\n",
    "for kernel in kernel_list:\n",
    "    iokrdata = data.IOKRDataServer(datapath, kernel=kernel)\n",
    "    fingerprint_projections = test_IOKR_projection(iokrdata)\n"
   ]
  },
  {
   "cell_type": "code",
   "execution_count": 8,
   "metadata": {},
   "outputs": [],
   "source": [
    "def calculate_auc(pred_values, true_values):\n",
    "    pred_values = numpy.array(pred_values)\n",
    "    true_values = numpy.array(true_values)\n",
    "    if numpy.sum(pred_values) == 0 and numpy.sum(true_values) == 0:\n",
    "        return 0.0\n",
    "    cutoff_range = [float(x - 100) / 100 for x in range(200)]\n",
    "    #cutoff_range = [0.5, 0.6]\n",
    "    _x = []\n",
    "    _y = []\n",
    "    tp_fp_pairs = []\n",
    "    for cutoff in cutoff_range:\n",
    "        pred_binary_values = numpy.array([1 if x > cutoff else 0 for x in pred_values])\n",
    "        tp = numpy.dot(pred_binary_values, true_values)\n",
    "        fp = numpy.dot(pred_binary_values, 1.0 - true_values)\n",
    "        tp_rate = tp / numpy.sum(true_values)\n",
    "        if numpy.sum(1.0 - true_values) == 0:\n",
    "            fp_rate = 0.0\n",
    "        else:\n",
    "            fp_rate = fp / numpy.sum(1.0 - true_values)\n",
    "        tp_fp_pairs.append((tp_rate, fp_rate))\n",
    "        \n",
    "        _x.append(fp_rate)\n",
    "        _y.append(tp_rate)\n",
    "        \n",
    "    tp_fp_pairs.sort(key=lambda x: x[1])\n",
    "    auc = 0\n",
    "    last_fp = 0\n",
    "    for tp, fp in tp_fp_pairs:\n",
    "        auc += (fp - last_fp) * tp\n",
    "        last_fp = fp\n",
    "        \n",
    "    #plt.scatter(_x, _y)\n",
    "    #plt.show()\n",
    "    return auc\n",
    "\n",
    "sample_fingerprints = [numpy.array(iokrdata.get_sample(i)['fingerprint'].T)[0] for i in range(len(iokrdata.folds))]\n",
    "\n"
   ]
  },
  {
   "cell_type": "code",
   "execution_count": 9,
   "metadata": {},
   "outputs": [
    {
     "ename": "KeyboardInterrupt",
     "evalue": "",
     "output_type": "error",
     "traceback": [
      "\u001b[0;31m---------------------------------------------------------------------------\u001b[0m",
      "\u001b[0;31mKeyboardInterrupt\u001b[0m                         Traceback (most recent call last)",
      "\u001b[0;32m<ipython-input-9-2bf3878afad6>\u001b[0m in \u001b[0;36m<module>\u001b[0;34m\u001b[0m\n\u001b[1;32m      4\u001b[0m     \u001b[0ma\u001b[0m \u001b[0;34m=\u001b[0m \u001b[0;34m[\u001b[0m\u001b[0mx\u001b[0m\u001b[0;34m[\u001b[0m\u001b[0mi\u001b[0m\u001b[0;34m]\u001b[0m \u001b[0;32mfor\u001b[0m \u001b[0mx\u001b[0m \u001b[0;32min\u001b[0m \u001b[0msample_fingerprints\u001b[0m\u001b[0;34m]\u001b[0m\u001b[0;34m\u001b[0m\u001b[0;34m\u001b[0m\u001b[0m\n\u001b[1;32m      5\u001b[0m     \u001b[0mb\u001b[0m \u001b[0;34m=\u001b[0m \u001b[0;34m[\u001b[0m\u001b[0mx\u001b[0m\u001b[0;34m[\u001b[0m\u001b[0mi\u001b[0m\u001b[0;34m]\u001b[0m \u001b[0;32mfor\u001b[0m \u001b[0mx\u001b[0m \u001b[0;32min\u001b[0m \u001b[0mfingerprint_projections\u001b[0m\u001b[0;34m]\u001b[0m\u001b[0;34m\u001b[0m\u001b[0;34m\u001b[0m\u001b[0m\n\u001b[0;32m----> 6\u001b[0;31m     \u001b[0mauc_values\u001b[0m\u001b[0;34m.\u001b[0m\u001b[0mappend\u001b[0m\u001b[0;34m(\u001b[0m\u001b[0mcalculate_auc\u001b[0m\u001b[0;34m(\u001b[0m\u001b[0mb\u001b[0m\u001b[0;34m,\u001b[0m \u001b[0ma\u001b[0m\u001b[0;34m)\u001b[0m\u001b[0;34m)\u001b[0m\u001b[0;34m\u001b[0m\u001b[0;34m\u001b[0m\u001b[0m\n\u001b[0m",
      "\u001b[0;32m<ipython-input-8-93a910da0b39>\u001b[0m in \u001b[0;36mcalculate_auc\u001b[0;34m(pred_values, true_values)\u001b[0m\n\u001b[1;32m     11\u001b[0m     \u001b[0;32mfor\u001b[0m \u001b[0mcutoff\u001b[0m \u001b[0;32min\u001b[0m \u001b[0mcutoff_range\u001b[0m\u001b[0;34m:\u001b[0m\u001b[0;34m\u001b[0m\u001b[0;34m\u001b[0m\u001b[0m\n\u001b[1;32m     12\u001b[0m         \u001b[0mpred_binary_values\u001b[0m \u001b[0;34m=\u001b[0m \u001b[0mnumpy\u001b[0m\u001b[0;34m.\u001b[0m\u001b[0marray\u001b[0m\u001b[0;34m(\u001b[0m\u001b[0;34m[\u001b[0m\u001b[0;36m1\u001b[0m \u001b[0;32mif\u001b[0m \u001b[0mx\u001b[0m \u001b[0;34m>\u001b[0m \u001b[0mcutoff\u001b[0m \u001b[0;32melse\u001b[0m \u001b[0;36m0\u001b[0m \u001b[0;32mfor\u001b[0m \u001b[0mx\u001b[0m \u001b[0;32min\u001b[0m \u001b[0mpred_values\u001b[0m\u001b[0;34m]\u001b[0m\u001b[0;34m)\u001b[0m\u001b[0;34m\u001b[0m\u001b[0;34m\u001b[0m\u001b[0m\n\u001b[0;32m---> 13\u001b[0;31m         \u001b[0mtp\u001b[0m \u001b[0;34m=\u001b[0m \u001b[0mnumpy\u001b[0m\u001b[0;34m.\u001b[0m\u001b[0mdot\u001b[0m\u001b[0;34m(\u001b[0m\u001b[0mpred_binary_values\u001b[0m\u001b[0;34m,\u001b[0m \u001b[0mtrue_values\u001b[0m\u001b[0;34m)\u001b[0m\u001b[0;34m\u001b[0m\u001b[0;34m\u001b[0m\u001b[0m\n\u001b[0m\u001b[1;32m     14\u001b[0m         \u001b[0mfp\u001b[0m \u001b[0;34m=\u001b[0m \u001b[0mnumpy\u001b[0m\u001b[0;34m.\u001b[0m\u001b[0mdot\u001b[0m\u001b[0;34m(\u001b[0m\u001b[0mpred_binary_values\u001b[0m\u001b[0;34m,\u001b[0m \u001b[0;36m1.0\u001b[0m \u001b[0;34m-\u001b[0m \u001b[0mtrue_values\u001b[0m\u001b[0;34m)\u001b[0m\u001b[0;34m\u001b[0m\u001b[0;34m\u001b[0m\u001b[0m\n\u001b[1;32m     15\u001b[0m         \u001b[0mtp_rate\u001b[0m \u001b[0;34m=\u001b[0m \u001b[0mtp\u001b[0m \u001b[0;34m/\u001b[0m \u001b[0mnumpy\u001b[0m\u001b[0;34m.\u001b[0m\u001b[0msum\u001b[0m\u001b[0;34m(\u001b[0m\u001b[0mtrue_values\u001b[0m\u001b[0;34m)\u001b[0m\u001b[0;34m\u001b[0m\u001b[0;34m\u001b[0m\u001b[0m\n",
      "\u001b[0;31mKeyboardInterrupt\u001b[0m: "
     ]
    }
   ],
   "source": [
    "\n"
   ]
  },
  {
   "cell_type": "code",
   "execution_count": null,
   "metadata": {},
   "outputs": [],
   "source": []
  },
  {
   "cell_type": "code",
   "execution_count": null,
   "metadata": {},
   "outputs": [],
   "source": []
  },
  {
   "cell_type": "code",
   "execution_count": null,
   "metadata": {},
   "outputs": [],
   "source": []
  },
  {
   "cell_type": "code",
   "execution_count": null,
   "metadata": {},
   "outputs": [],
   "source": []
  },
  {
   "cell_type": "code",
   "execution_count": null,
   "metadata": {},
   "outputs": [],
   "source": []
  },
  {
   "cell_type": "code",
   "execution_count": null,
   "metadata": {},
   "outputs": [],
   "source": []
  },
  {
   "cell_type": "code",
   "execution_count": null,
   "metadata": {},
   "outputs": [],
   "source": []
  },
  {
   "cell_type": "code",
   "execution_count": 31,
   "metadata": {},
   "outputs": [
    {
     "name": "stdout",
     "output_type": "stream",
     "text": [
      "project\n",
      "process ALIGND.txt\n",
      "Loading kernel ALIGND.txt\n",
      "process CP2Plus.txt\n",
      "Loading kernel CP2Plus.txt\n",
      "process CPI.txt\n",
      "Loading kernel CPI.txt\n",
      "process CPK.txt\n",
      "Loading kernel CPK.txt\n",
      "process LB.txt\n",
      "Loading kernel LB.txt\n",
      "process LI.txt\n",
      "Loading kernel LI.txt\n",
      "process NI.txt\n",
      "Loading kernel NI.txt\n",
      "process RLB.txt\n",
      "Loading kernel RLB.txt\n",
      "process ALIGN.txt\n",
      "Loading kernel ALIGN.txt\n",
      "process CP2.txt\n",
      "Loading kernel CP2.txt\n",
      "process CPJB.txt\n",
      "Loading kernel CPJB.txt\n",
      "process CSC.txt\n",
      "Loading kernel CSC.txt\n",
      "process LC.txt\n",
      "Loading kernel LC.txt\n",
      "process LW.txt\n",
      "Loading kernel LW.txt\n",
      "process NSF.txt\n",
      "Loading kernel NSF.txt\n",
      "process RLI.txt\n",
      "Loading kernel RLI.txt\n",
      "process CEC.txt\n",
      "Loading kernel CEC.txt\n",
      "process CPC.txt\n",
      "Loading kernel CPC.txt\n",
      "process CPJ.txt\n",
      "Loading kernel CPJ.txt\n",
      "process FIPP.txt\n",
      "Loading kernel FIPP.txt\n",
      "process LIPP.txt\n",
      "Loading kernel LIPP.txt\n",
      "process NB.txt\n",
      "Loading kernel NB.txt\n",
      "process PPKr.txt\n",
      "Loading kernel PPKr.txt\n",
      "process WPC.txt\n",
      "Loading kernel WPC.txt\n",
      "process None\n",
      "No kernel specified. Using average.\n"
     ]
    }
   ],
   "source": [
    "def testIOKR(iokrdata):\n",
    "    fingerprint_projections = []\n",
    "    for label in set(iokrdata.folds):\n",
    "        label_indices = iokrdata.get_indices(label, complement=True)\n",
    "        iokr_opt = iokr.InputOutputKernelRegression(iokrdata)\n",
    "        iokr_opt.set_training_indices(label_indices, _lambda=0.001)\n",
    "        iokr_opt.fit()\n",
    "\n",
    "        indices = numpy.where(iokrdata.folds == label)[0]\n",
    "\n",
    "        for idx in indices:\n",
    "            test_res = numpy.array(iokr_opt.project(idx))\n",
    "            fingerprint_projections.append(test_res)\n",
    "\n",
    "    return fingerprint_projections\n",
    "\n",
    "kernel_list = [\"ALIGND.txt\",\n",
    "                    \"CP2Plus.txt\",\n",
    "                    \"CPI.txt\",\n",
    "                    \"CPK.txt\",\n",
    "                    \"LB.txt\",\n",
    "                    \"LI.txt\",\n",
    "                    \"NI.txt\",\n",
    "                    \"RLB.txt\",\n",
    "                    \"ALIGN.txt\",\n",
    "                    \"CP2.txt\",\n",
    "                    \"CPJB.txt\",\n",
    "                    \"CSC.txt\",\n",
    "                    \"LC.txt\",\n",
    "                    \"LW.txt\",\n",
    "                    \"NSF.txt\",\n",
    "                    \"RLI.txt\",\n",
    "                    \"CEC.txt\",\n",
    "                    \"CPC.txt\",\n",
    "                    \"CPJ.txt\",\n",
    "                    \"FIPP.txt\",\n",
    "                    \"LIPP.txt\",\n",
    "                    \"NB.txt\",\n",
    "                    \"PPKr.txt\",\n",
    "                    \"WPC.txt\",\n",
    "                    None]\n",
    "\n",
    "# kernel_list = ['PPKr.txt']\n",
    "\n",
    "print('project')\n",
    "\n",
    "kernel_res = {}\n",
    "for kernel in kernel_list:\n",
    "    print('process %s' % kernel)\n",
    "    iokrdata = IOKRDataServer(datapath, kernel=kernel)\n",
    "    fingerprint_projections = testIOKR(iokrdata)\n",
    "    kernel_res[kernel] = fingerprint_projections\n",
    "    \n",
    "sample_fingerprints = [numpy.array(iokrdata.get_sample(i)['fingerprint'].T)[0] for i in range(len(iokrdata.folds))]\n",
    "\n"
   ]
  },
  {
   "cell_type": "code",
   "execution_count": 64,
   "metadata": {},
   "outputs": [
    {
     "name": "stdout",
     "output_type": "stream",
     "text": [
      "auc\n",
      "LI.txt\n",
      "PPKr.txt\n"
     ]
    }
   ],
   "source": [
    "print('auc')\n",
    "\n",
    "auc_kernel_values = {}\n",
    "for k in kernel_list:\n",
    "    print(k)\n",
    "    for i in range(len(sample_fingerprints[0])):\n",
    "        a = [x[i] for x in sample_fingerprints]\n",
    "        b = [x[i] for x in kernel_res[k]]\n",
    "        if k in auc_kernel_values:\n",
    "            auc_kernel_values[k].append(calculate_auc(b, a))\n",
    "        else:\n",
    "            auc_kernel_values[k] = [calculate_auc(b, a)]"
   ]
  },
  {
   "cell_type": "code",
   "execution_count": 74,
   "metadata": {},
   "outputs": [
    {
     "name": "stdout",
     "output_type": "stream",
     "text": [
      "False\n"
     ]
    },
    {
     "data": {
      "text/plain": [
       "Text(0, 0.5, 'PPKr AUC')"
      ]
     },
     "execution_count": 74,
     "metadata": {},
     "output_type": "execute_result"
    },
    {
     "data": {
      "image/png": "[encoded data removed]",
      "text/plain": [
       "<Figure size 432x288 with 1 Axes>"
      ]
     },
     "metadata": {
      "needs_background": "light"
     },
     "output_type": "display_data"
    }
   ],
   "source": [
    "import matplotlib.pyplot as plt\n",
    "imp.reload(plt)\n",
    "plt.scatter(auc_kernel_values['LI.txt'], auc_kernel_values['PPKr.txt'])\n",
    "plt.xlabel('LI AUC')\n",
    "plt.ylabel('PPKr AUC')"
   ]
  },
  {
   "cell_type": "code",
   "execution_count": null,
   "metadata": {},
   "outputs": [],
   "source": []
  },
  {
   "cell_type": "code",
   "execution_count": null,
   "metadata": {},
   "outputs": [],
   "source": []
  },
  {
   "cell_type": "code",
   "execution_count": null,
   "metadata": {},
   "outputs": [],
   "source": [
    "auc_values = auc_kernel_values['PPKr.txt']\n",
    "plt.hist(auc_values)\n",
    "plt.savefig('auc_hist.pdf')"
   ]
  },
  {
   "cell_type": "code",
   "execution_count": null,
   "metadata": {},
   "outputs": [],
   "source": []
  },
  {
   "cell_type": "code",
   "execution_count": 216,
   "metadata": {},
   "outputs": [
    {
     "name": "stdout",
     "output_type": "stream",
     "text": [
      "No kernel specified. Using average.\n",
      "idx 5 - candSize 7 - true 0\n",
      "Ranked 2 / 7\n",
      "idx 24 - candSize 921 - true 24\n"
     ]
    },
    {
     "ename": "KeyboardInterrupt",
     "evalue": "",
     "output_type": "error",
     "traceback": [
      "\u001b[0;31m---------------------------------------------------------------------------\u001b[0m",
      "\u001b[0;31mKeyboardInterrupt\u001b[0m                         Traceback (most recent call last)",
      "\u001b[0;32m<ipython-input-216-9d5bb3926d7e>\u001b[0m in \u001b[0;36m<module>\u001b[0;34m\u001b[0m\n\u001b[1;32m     21\u001b[0m \u001b[0;34m\u001b[0m\u001b[0m\n\u001b[1;32m     22\u001b[0m         \u001b[0mprint\u001b[0m\u001b[0;34m(\u001b[0m\u001b[0;34m'idx {} - candSize {} - true {}'\u001b[0m\u001b[0;34m.\u001b[0m\u001b[0mformat\u001b[0m\u001b[0;34m(\u001b[0m\u001b[0mi\u001b[0m\u001b[0;34m,\u001b[0m \u001b[0mtotal_count\u001b[0m\u001b[0;34m,\u001b[0m \u001b[0mcorrect_index\u001b[0m\u001b[0;34m)\u001b[0m\u001b[0;34m)\u001b[0m\u001b[0;34m\u001b[0m\u001b[0;34m\u001b[0m\u001b[0m\n\u001b[0;32m---> 23\u001b[0;31m         \u001b[0mranking\u001b[0m \u001b[0;34m=\u001b[0m \u001b[0miokr_opt\u001b[0m\u001b[0;34m.\u001b[0m\u001b[0mrank_candidates\u001b[0m\u001b[0;34m(\u001b[0m\u001b[0mi\u001b[0m\u001b[0;34m,\u001b[0m \u001b[0mcandidate_fingerprints\u001b[0m\u001b[0;34m)\u001b[0m\u001b[0;34m\u001b[0m\u001b[0;34m\u001b[0m\u001b[0m\n\u001b[0m\u001b[1;32m     24\u001b[0m         \u001b[0mcorrect_ranking\u001b[0m \u001b[0;34m=\u001b[0m \u001b[0mranking\u001b[0m\u001b[0;34m.\u001b[0m\u001b[0mindex\u001b[0m\u001b[0;34m(\u001b[0m\u001b[0mcorrect_index\u001b[0m\u001b[0;34m)\u001b[0m\u001b[0;34m\u001b[0m\u001b[0;34m\u001b[0m\u001b[0m\n\u001b[1;32m     25\u001b[0m \u001b[0;34m\u001b[0m\u001b[0m\n",
      "\u001b[0;32m~/iokr/iokr.py\u001b[0m in \u001b[0;36mrank_candidates\u001b[0;34m(self, index, candidate_fingerprints)\u001b[0m\n\u001b[1;32m     75\u001b[0m         \u001b[0mx_kernel_vector\u001b[0m \u001b[0;34m=\u001b[0m \u001b[0mself\u001b[0m\u001b[0;34m.\u001b[0m\u001b[0mdata\u001b[0m\u001b[0;34m.\u001b[0m\u001b[0mkernel_product_set\u001b[0m\u001b[0;34m(\u001b[0m\u001b[0mindex\u001b[0m\u001b[0;34m,\u001b[0m \u001b[0mself\u001b[0m\u001b[0;34m.\u001b[0m\u001b[0mtraining_set\u001b[0m\u001b[0;34m)\u001b[0m\u001b[0;34m\u001b[0m\u001b[0;34m\u001b[0m\u001b[0m\n\u001b[1;32m     76\u001b[0m         \u001b[0mres\u001b[0m \u001b[0;34m=\u001b[0m \u001b[0mnumpy\u001b[0m\u001b[0;34m.\u001b[0m\u001b[0mdot\u001b[0m\u001b[0;34m(\u001b[0m\u001b[0mnumpy\u001b[0m\u001b[0;34m.\u001b[0m\u001b[0mdot\u001b[0m\u001b[0;34m(\u001b[0m\u001b[0mfingerprint_kernel_vector\u001b[0m\u001b[0;34m,\u001b[0m \u001b[0mself\u001b[0m\u001b[0;34m.\u001b[0m\u001b[0mlatent_basis\u001b[0m\u001b[0;34m)\u001b[0m\u001b[0;34m,\u001b[0m \u001b[0mx_kernel_vector\u001b[0m\u001b[0;34m)\u001b[0m\u001b[0;34m\u001b[0m\u001b[0;34m\u001b[0m\u001b[0m\n\u001b[0;32m---> 77\u001b[0;31m         \u001b[0;32mreturn\u001b[0m \u001b[0mres\u001b[0m\u001b[0;34m\u001b[0m\u001b[0;34m\u001b[0m\u001b[0m\n\u001b[0m\u001b[1;32m     78\u001b[0m \u001b[0;34m\u001b[0m\u001b[0m\n\u001b[1;32m     79\u001b[0m     \u001b[0;32mdef\u001b[0m \u001b[0mrank_candidates\u001b[0m\u001b[0;34m(\u001b[0m\u001b[0mself\u001b[0m\u001b[0;34m,\u001b[0m \u001b[0mindex\u001b[0m\u001b[0;34m,\u001b[0m \u001b[0mcandidate_fingerprints\u001b[0m\u001b[0;34m)\u001b[0m\u001b[0;34m:\u001b[0m\u001b[0;34m\u001b[0m\u001b[0;34m\u001b[0m\u001b[0m\n",
      "\u001b[0;32m~/iokr/iokr.py\u001b[0m in \u001b[0;36m<listcomp>\u001b[0;34m(.0)\u001b[0m\n\u001b[1;32m     75\u001b[0m         \u001b[0mx_kernel_vector\u001b[0m \u001b[0;34m=\u001b[0m \u001b[0mself\u001b[0m\u001b[0;34m.\u001b[0m\u001b[0mdata\u001b[0m\u001b[0;34m.\u001b[0m\u001b[0mkernel_product_set\u001b[0m\u001b[0;34m(\u001b[0m\u001b[0mindex\u001b[0m\u001b[0;34m,\u001b[0m \u001b[0mself\u001b[0m\u001b[0;34m.\u001b[0m\u001b[0mtraining_set\u001b[0m\u001b[0;34m)\u001b[0m\u001b[0;34m\u001b[0m\u001b[0;34m\u001b[0m\u001b[0m\n\u001b[1;32m     76\u001b[0m         \u001b[0mres\u001b[0m \u001b[0;34m=\u001b[0m \u001b[0mnumpy\u001b[0m\u001b[0;34m.\u001b[0m\u001b[0mdot\u001b[0m\u001b[0;34m(\u001b[0m\u001b[0mnumpy\u001b[0m\u001b[0;34m.\u001b[0m\u001b[0mdot\u001b[0m\u001b[0;34m(\u001b[0m\u001b[0mfingerprint_kernel_vector\u001b[0m\u001b[0;34m,\u001b[0m \u001b[0mself\u001b[0m\u001b[0;34m.\u001b[0m\u001b[0mlatent_basis\u001b[0m\u001b[0;34m)\u001b[0m\u001b[0;34m,\u001b[0m \u001b[0mx_kernel_vector\u001b[0m\u001b[0;34m)\u001b[0m\u001b[0;34m\u001b[0m\u001b[0;34m\u001b[0m\u001b[0m\n\u001b[0;32m---> 77\u001b[0;31m         \u001b[0;32mreturn\u001b[0m \u001b[0mres\u001b[0m\u001b[0;34m\u001b[0m\u001b[0;34m\u001b[0m\u001b[0m\n\u001b[0m\u001b[1;32m     78\u001b[0m \u001b[0;34m\u001b[0m\u001b[0m\n\u001b[1;32m     79\u001b[0m     \u001b[0;32mdef\u001b[0m \u001b[0mrank_candidates\u001b[0m\u001b[0;34m(\u001b[0m\u001b[0mself\u001b[0m\u001b[0;34m,\u001b[0m \u001b[0mindex\u001b[0m\u001b[0;34m,\u001b[0m \u001b[0mcandidate_fingerprints\u001b[0m\u001b[0;34m)\u001b[0m\u001b[0;34m:\u001b[0m\u001b[0;34m\u001b[0m\u001b[0;34m\u001b[0m\u001b[0m\n",
      "\u001b[0;32m~/iokr/iokr.py\u001b[0m in \u001b[0;36mproject_candidate\u001b[0;34m(self, index, fingerprint)\u001b[0m\n\u001b[1;32m     69\u001b[0m         \u001b[0mtraining_data_latent\u001b[0m \u001b[0;34m=\u001b[0m \u001b[0mself\u001b[0m\u001b[0;34m.\u001b[0m\u001b[0mdata\u001b[0m\u001b[0;34m.\u001b[0m\u001b[0mget_latent_vectors_vec\u001b[0m\u001b[0;34m(\u001b[0m\u001b[0mself\u001b[0m\u001b[0;34m.\u001b[0m\u001b[0mtraining_set\u001b[0m\u001b[0;34m)\u001b[0m\u001b[0;34m\u001b[0m\u001b[0;34m\u001b[0m\u001b[0m\n\u001b[1;32m     70\u001b[0m         \u001b[0mkernel_vector\u001b[0m \u001b[0;34m=\u001b[0m \u001b[0mk_vec\u001b[0m\u001b[0;34m(\u001b[0m\u001b[0mtraining_data_latent\u001b[0m\u001b[0;34m,\u001b[0m \u001b[0mfingerprint\u001b[0m\u001b[0;34m.\u001b[0m\u001b[0mT\u001b[0m\u001b[0;34m)\u001b[0m\u001b[0;34m\u001b[0m\u001b[0;34m\u001b[0m\u001b[0m\n\u001b[0;32m---> 71\u001b[0;31m         \u001b[0;32mreturn\u001b[0m \u001b[0mkernel_vector\u001b[0m\u001b[0;34m\u001b[0m\u001b[0;34m\u001b[0m\u001b[0m\n\u001b[0m\u001b[1;32m     72\u001b[0m \u001b[0;34m\u001b[0m\u001b[0m\n\u001b[1;32m     73\u001b[0m     \u001b[0;32mdef\u001b[0m \u001b[0mproject_candidate\u001b[0m\u001b[0;34m(\u001b[0m\u001b[0mself\u001b[0m\u001b[0;34m,\u001b[0m \u001b[0mindex\u001b[0m\u001b[0;34m,\u001b[0m \u001b[0mfingerprint\u001b[0m\u001b[0;34m)\u001b[0m\u001b[0;34m:\u001b[0m\u001b[0;34m\u001b[0m\u001b[0;34m\u001b[0m\u001b[0m\n",
      "\u001b[0;32m~/iokr/iokr.py\u001b[0m in \u001b[0;36mcalculate_fingerprint_kernel_vector\u001b[0;34m(self, fingerprint, kernel)\u001b[0m\n\u001b[1;32m     64\u001b[0m             \u001b[0;32mdef\u001b[0m \u001b[0mk_vec\u001b[0m\u001b[0;34m(\u001b[0m\u001b[0ma_mat\u001b[0m\u001b[0;34m,\u001b[0m \u001b[0mb\u001b[0m\u001b[0;34m,\u001b[0m \u001b[0mgamma\u001b[0m\u001b[0;34m=\u001b[0m\u001b[0;36m0.1\u001b[0m\u001b[0;34m)\u001b[0m\u001b[0;34m:\u001b[0m\u001b[0;34m\u001b[0m\u001b[0;34m\u001b[0m\u001b[0m\n\u001b[1;32m     65\u001b[0m                 \u001b[0;31m# vectorised kernel function\u001b[0m\u001b[0;34m\u001b[0m\u001b[0;34m\u001b[0m\u001b[0;34m\u001b[0m\u001b[0m\n\u001b[0;32m---> 66\u001b[0;31m                 \u001b[0md_sq\u001b[0m \u001b[0;34m=\u001b[0m \u001b[0mnumpy\u001b[0m\u001b[0;34m.\u001b[0m\u001b[0msum\u001b[0m\u001b[0;34m(\u001b[0m\u001b[0mnumpy\u001b[0m\u001b[0;34m.\u001b[0m\u001b[0mpower\u001b[0m\u001b[0;34m(\u001b[0m\u001b[0;34m(\u001b[0m\u001b[0ma_mat\u001b[0m \u001b[0;34m-\u001b[0m \u001b[0mb\u001b[0m\u001b[0;34m)\u001b[0m\u001b[0;34m,\u001b[0m \u001b[0;36m2\u001b[0m\u001b[0;34m)\u001b[0m\u001b[0;34m,\u001b[0m \u001b[0maxis\u001b[0m\u001b[0;34m=\u001b[0m\u001b[0;36m1\u001b[0m\u001b[0;34m)\u001b[0m\u001b[0;34m\u001b[0m\u001b[0;34m\u001b[0m\u001b[0m\n\u001b[0m\u001b[1;32m     67\u001b[0m                 \u001b[0;32mreturn\u001b[0m \u001b[0mnumpy\u001b[0m\u001b[0;34m.\u001b[0m\u001b[0mexp\u001b[0m\u001b[0;34m(\u001b[0m\u001b[0;34m-\u001b[0m \u001b[0mgamma\u001b[0m \u001b[0;34m*\u001b[0m \u001b[0md_sq\u001b[0m\u001b[0;34m)\u001b[0m\u001b[0;34m\u001b[0m\u001b[0;34m\u001b[0m\u001b[0m\n\u001b[1;32m     68\u001b[0m \u001b[0;34m\u001b[0m\u001b[0m\n",
      "\u001b[0;32m<ipython-input-208-a91f6ecfeb75>\u001b[0m in \u001b[0;36mget_latent_vectors_vec\u001b[0;34m(self, indices)\u001b[0m\n\u001b[1;32m     70\u001b[0m \u001b[0;34m\u001b[0m\u001b[0m\n\u001b[1;32m     71\u001b[0m     \u001b[0;32mdef\u001b[0m \u001b[0mget_latent_vectors_vec\u001b[0m\u001b[0;34m(\u001b[0m\u001b[0mself\u001b[0m\u001b[0;34m,\u001b[0m \u001b[0mindices\u001b[0m\u001b[0;34m)\u001b[0m\u001b[0;34m:\u001b[0m\u001b[0;34m\u001b[0m\u001b[0;34m\u001b[0m\u001b[0m\n\u001b[0;32m---> 72\u001b[0;31m         \u001b[0mfingerprints\u001b[0m \u001b[0;34m=\u001b[0m \u001b[0mself\u001b[0m\u001b[0;34m.\u001b[0m\u001b[0mgnps\u001b[0m\u001b[0;34m.\u001b[0m\u001b[0mget_fingerprints\u001b[0m\u001b[0;34m(\u001b[0m\u001b[0mindices\u001b[0m\u001b[0;34m)\u001b[0m\u001b[0;34m\u001b[0m\u001b[0;34m\u001b[0m\u001b[0m\n\u001b[0m\u001b[1;32m     73\u001b[0m         \u001b[0;32mreturn\u001b[0m \u001b[0mfingerprints\u001b[0m\u001b[0;34m\u001b[0m\u001b[0;34m\u001b[0m\u001b[0m\n\u001b[1;32m     74\u001b[0m \u001b[0;34m\u001b[0m\u001b[0m\n",
      "\u001b[0;32m<ipython-input-207-44a3c22ebbfa>\u001b[0m in \u001b[0;36mget_fingerprints\u001b[0;34m(self, indices)\u001b[0m\n\u001b[1;32m     17\u001b[0m \u001b[0;34m\u001b[0m\u001b[0m\n\u001b[1;32m     18\u001b[0m     \u001b[0;32mdef\u001b[0m \u001b[0mget_fingerprints\u001b[0m\u001b[0;34m(\u001b[0m\u001b[0mself\u001b[0m\u001b[0;34m,\u001b[0m \u001b[0mindices\u001b[0m\u001b[0;34m)\u001b[0m\u001b[0;34m:\u001b[0m\u001b[0;34m\u001b[0m\u001b[0;34m\u001b[0m\u001b[0m\n\u001b[0;32m---> 19\u001b[0;31m         \u001b[0;32mreturn\u001b[0m \u001b[0mself\u001b[0m\u001b[0;34m.\u001b[0m\u001b[0mdata_fp_array\u001b[0m\u001b[0;34m[\u001b[0m\u001b[0;34m:\u001b[0m\u001b[0;34m,\u001b[0m \u001b[0mindices\u001b[0m\u001b[0;34m]\u001b[0m\u001b[0;34m.\u001b[0m\u001b[0mT\u001b[0m\u001b[0;34m\u001b[0m\u001b[0;34m\u001b[0m\u001b[0m\n\u001b[0m\u001b[1;32m     20\u001b[0m \u001b[0;34m\u001b[0m\u001b[0m\n",
      "\u001b[0;31mKeyboardInterrupt\u001b[0m: "
     ]
    }
   ],
   "source": [
    "\n",
    "kernel = None\n",
    "\n",
    "collected_rankings = []\n",
    "iokrdata = data.IOKRDataServer(datapath, kernel=kernel)\n",
    "for label in set(iokrdata.folds):\n",
    "    label_indices = iokrdata.get_indices(label, complement=True)\n",
    "\n",
    "    iokr_opt = iokr.InputOutputKernelRegression(iokrdata)\n",
    "    iokr_opt.set_training_indices(label_indices, _lambda=0.001)\n",
    "    iokr_opt.fit()\n",
    "\n",
    "    test_indices = iokrdata.get_indices(label)\n",
    "    for i in test_indices:\n",
    "        formula = iokrdata.get_sample(i)['formula']\n",
    "        sample_inchi = iokrdata.get_sample(i)['inchi']\n",
    "        candidate_inchi = [x[0] for x in iokrdata.get_candidates(formula)]\n",
    "        candidate_fingerprints = [numpy.array(x[1]) for x in iokrdata.get_candidates(formula)]\n",
    "        correct_index = candidate_inchi.index(sample_inchi)\n",
    "        total_count = len(candidate_fingerprints)\n",
    "        \n",
    "        print('idx {} - candSize {} - true {}'.format(i, total_count, correct_index))\n",
    "        ranking = iokr_opt.rank_candidates(i, candidate_fingerprints)\n",
    "        correct_ranking = ranking.index(correct_index)\n",
    "        \n",
    "        print(\"Ranked {} / {}\".format(correct_ranking, total_count))\n",
    "        collected_rankings.append((correct_ranking, total_count))\n"
   ]
  },
  {
   "cell_type": "code",
   "execution_count": null,
   "metadata": {},
   "outputs": [],
   "source": [
    "\n"
   ]
  },
  {
   "cell_type": "code",
   "execution_count": null,
   "metadata": {},
   "outputs": [],
   "source": []
  },
  {
   "cell_type": "code",
   "execution_count": null,
   "metadata": {},
   "outputs": [],
   "source": []
  },
  {
   "cell_type": "code",
   "execution_count": null,
   "metadata": {},
   "outputs": [],
   "source": []
  },
  {
   "cell_type": "code",
   "execution_count": null,
   "metadata": {},
   "outputs": [],
   "source": []
  },
  {
   "cell_type": "code",
   "execution_count": null,
   "metadata": {},
   "outputs": [],
   "source": []
  },
  {
   "cell_type": "code",
   "execution_count": null,
   "metadata": {},
   "outputs": [],
   "source": []
  },
  {
   "cell_type": "markdown",
   "metadata": {},
   "source": [
    "The Probability Product Kernel.\n",
    "\n",
    "Input for PPK is two spectra as nx2 numpy arrays ((position, intensity)-pairs).\n",
    "\n",
    "Input for PKKr is the same plus two precursor mass floats.\n",
    "\n",
    "Question: If the PPKr is supposed to be normalised, do we normalise the component kernels, and then renormalise the final sum, or do we compute them unnormalised and only do the normalisation as a last step?"
   ]
  },
  {
   "cell_type": "code",
   "execution_count": 11,
   "metadata": {},
   "outputs": [
    {
     "name": "stdout",
     "output_type": "stream",
     "text": [
      "0.9092767390377636\n",
      "2.9092767390377636\n"
     ]
    }
   ],
   "source": [
    "import itertools\n",
    "\n",
    "def sigma(x):\n",
    "    sigma_mass = numpy.std(x[:, 0])\n",
    "    sigma_int = numpy.std(x[:, 1])\n",
    "    sigma_mass = 0.5\n",
    "    sigma_int = 0.5\n",
    "    sigma_mat = numpy.array([[sigma_mass, 0], [0, sigma_int]])\n",
    "    return sigma_mat, numpy.linalg.inv(sigma_mat)\n",
    "\n",
    "def PPK(spec1, spec2, normalised=True):\n",
    "    if normalised and numpy.all(spec1 == spec2):\n",
    "        return 1.0\n",
    "    \n",
    "    k1 = len(spec1)\n",
    "    k2 = len(spec2)\n",
    "    sigma1, sigma1_inv = sigma(spec1)\n",
    "    sigma2, sigma2_inv = sigma(spec2)\n",
    "    \n",
    "    cum = 0\n",
    "    for p_1, p_2 in itertools.product(spec1, spec2):\n",
    "        p_dagger = numpy.dot(sigma1_inv, p_2) + numpy.dot(sigma2_inv, p_2)\n",
    "        sigma_dagger = sigma1_inv + sigma2_inv\n",
    "        sigma_dagger_inv = numpy.linalg.inv(sigma_dagger)\n",
    "        factor = 1.0 / (2 * numpy.pi * numpy.sqrt(numpy.linalg.det(sigma1) * numpy.linalg.det(sigma2) * numpy.linalg.det(sigma_dagger)))\n",
    "\n",
    "        exponent = numpy.dot(numpy.dot(p_1, sigma1_inv), p_1) \\\n",
    "                    + numpy.dot(numpy.dot(p_2, sigma2_inv), p_2) \\\n",
    "                    + numpy.dot(numpy.dot(p_dagger, sigma_dagger_inv), p_dagger)\n",
    "        cum += factor + numpy.exp(-0.5 * exponent)\n",
    "    \n",
    "    unnormalised = cum / (k1 * k2)\n",
    "    \n",
    "    if normalised:\n",
    "        spec1_auto = PPK(spec1, spec1, normalised=False)\n",
    "        spec2_auto = PPK(spec2, spec2, normalised=False)\n",
    "        \n",
    "        return unnormalised / (numpy.sqrt(spec1_auto * spec2_auto))\n",
    "    else:\n",
    "        return unnormalised\n",
    "\n",
    "    \n",
    "def PPKr(spec1, spec2, prec1, prec2):\n",
    "    k_peaks = PPK(spec1, spec2)\n",
    "    \n",
    "    spec1_loss = ([prec1, 0] - spec1) * [1, -1]\n",
    "    spec2_loss = ([prec2, 0] - spec2) * [1, -1]\n",
    "    k_nloss = PPK(spec1_loss, spec2_loss)\n",
    "    \n",
    "    spec1_diff = numpy.array([y - x for x, y in itertools.combinations(spec1, 2)])\n",
    "    spec2_diff = numpy.array([y - x for x, y in itertools.combinations(spec2, 2)])\n",
    "    k_diff = PPK(spec1_diff, spec2_diff)\n",
    "\n",
    "    return k_peaks + k_nloss + k_diff\n",
    "\n",
    "\n",
    "p1 = numpy.array([[2.0, 1.0],\n",
    "                  [2.5, 0.5],\n",
    "                  [3.0, 1.0]])\n",
    "p2 = numpy.array([[0.0, 1.0],\n",
    "                  [0.5, 0.5],\n",
    "                  [1.0, 1.0]])\n",
    "\n",
    "print(PPK(p1, p2))\n",
    "print(PPKr(p1, p2, 3.0, 1.0))\n",
    "\n"
   ]
  },
  {
   "cell_type": "code",
   "execution_count": 12,
   "metadata": {},
   "outputs": [],
   "source": [
    "def _gaussprodmixture(i_peaks, j_peaks, sm, si):\n",
    "        X1 = i_peaks; X2 = j_peaks;\n",
    "        N1 = numpy.size(X1,0); N2 = numpy.size(X2,0)\n",
    "        if N1 == 0 or N2 == 0:\n",
    "            raise Exception(\"[ERROR]:No peaks when computing the kernel.(try not clean the peaks)\")\n",
    "        constant = 1.0/(N1*N2)*0.25/(numpy.pi*numpy.sqrt(sm*si))\n",
    "        print(constant)\n",
    "        mass_term = 1.0/sm * numpy.power(numpy.kron(X1[:,0].flatten(),numpy.ones(N2)) - numpy.kron(numpy.ones(N1),X2[:,0].flatten()),2)\n",
    "        inte_term = 1.0/si * numpy.power(numpy.kron(X1[:,1].flatten(),numpy.ones(N2)) - numpy.kron(numpy.ones(N1),X2[:,1].flatten()),2)\n",
    "        return constant*sum(numpy.exp(-0.25*(mass_term + inte_term)))\n",
    "        #return constant*sum(numpy.exp(-0.25*(mass_term)))"
   ]
  },
  {
   "cell_type": "code",
   "execution_count": 10,
   "metadata": {},
   "outputs": [
    {
     "name": "stdout",
     "output_type": "stream",
     "text": [
      "0.017683882565766147\n"
     ]
    },
    {
     "data": {
      "text/plain": [
       "0.029606418356545663"
      ]
     },
     "execution_count": 10,
     "metadata": {},
     "output_type": "execute_result"
    }
   ],
   "source": [
    "_gaussprodmixture(p1, p2, 0.5, 0.5)"
   ]
  },
  {
   "cell_type": "code",
   "execution_count": null,
   "metadata": {},
   "outputs": [],
   "source": []
  }
 ],
 "metadata": {
  "kernelspec": {
   "display_name": "Python 3",
   "language": "python",
   "name": "python3"
  },
  "language_info": {
   "codemirror_mode": {
    "name": "ipython",
    "version": 3
   },
   "file_extension": ".py",
   "mimetype": "text/x-python",
   "name": "python",
   "nbconvert_exporter": "python",
   "pygments_lexer": "ipython3",
   "version": "3.7.2"
  }
 },
 "nbformat": 4,
 "nbformat_minor": 2
}
